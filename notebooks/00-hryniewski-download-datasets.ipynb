{
 "cells": [
  {
   "cell_type": "markdown",
   "metadata": {},
   "source": [
    "Ce code permet de changer le répertoire de travail du notebook vers le répertoire parent du répertoire actuel. Cela est nécessaire pour que le notebook puisse accéder aux fichiers et modules situés dans le répertoire du projet."
   ]
  },
  {
   "cell_type": "code",
   "execution_count": 1,
   "metadata": {},
   "outputs": [
    {
     "name": "stdout",
     "output_type": "stream",
     "text": [
      "/data/dhryniewski/DataScientest/doc-classifier\n"
     ]
    }
   ],
   "source": [
    "import os\n",
    "current_dir = %pwd\n",
    "project_dir = os.path.dirname(current_dir)\n",
    "%cd $project_dir"
   ]
  },
  {
   "cell_type": "markdown",
   "metadata": {},
   "source": [
    "# 00 - Téléchargement de Datasets"
   ]
  },
  {
   "cell_type": "markdown",
   "metadata": {},
   "source": [
    "Afin de commencer l'exploration et l'analyse des bases de données, téléchargez ces quatre datasets.\n",
    "\n",
    "Name | Size | Images | Download\n",
    "-----|------|--------|-----------\n",
    "Text extraction for OCR| 33.5 Mo | 520 | [Google Drive](https://drive.google.com/file/d/1w0FhoxyHAjFrWJBQ63JiJFPBsxBEUOVO/view?usp=drive_link)\n",
    "Projet OCR classification | 203.3 Mo | 1 608 | [Google Drive](https://drive.google.com/file/d/1wDa-pXwdUmEpubo8UjGwQCWzZt9PNZbI/view?usp=drive_link)\n",
    "RVL-CDIP Dataset (5% of original dataset)| 1.8 Go | 20 000 | [Google Drive](https://drive.google.com/file/d/13V-hUMebr5PZjqNcuwxUPlB6u7lEq_gB/view?usp=drive_link)\n",
    "PRADO | 139.6 Mo | 1 589 | [Google Drive](https://drive.google.com/file/d/1Seii3yeWKoc4f9eUNcgAwDtFleO0yjUm/view?usp=drive_link)\n",
    "\n",
    "Nous avons extrait 5% de la base de données RVL-CDIB, qui initialement contient 400 000 images, pour économiser du temps et des ressources, tout en maintenant le même ratio de différentes catégories par rapport à la base de données initiale."
   ]
  },
  {
   "cell_type": "markdown",
   "metadata": {},
   "source": [
    "### Extraction de données :\n",
    "\n",
    "Remplacez les chemin des variables `data_01_path`, `data_02_path`, `data_03_path`, `data_04_path`."
   ]
  },
  {
   "cell_type": "code",
   "execution_count": 4,
   "metadata": {},
   "outputs": [],
   "source": [
    "# Text extraction for OCR\n",
    "data_01_path = \"path/to/data_01.tar.gz\"\n",
    "\n",
    "# Projet OCR classification\n",
    "data_02_path = \"path/to/data_02.tar.gz\"\n",
    "\n",
    "# RVL-CDIP Dataset\n",
    "data_03_path = \"path/to/data_03.tar.gz\"\n",
    "\n",
    "# PRADO\n",
    "data_04_path = \"path/to/data_04.tar.gz\""
   ]
  },
  {
   "cell_type": "code",
   "execution_count": null,
   "metadata": {},
   "outputs": [],
   "source": [
    "from src import extract_tar_gz\n",
    "\n",
    "# Extraire tout les datastes dans le repertoire data/raw\n",
    "extract_tar_gz(data_01_path, 'data/raw')\n",
    "extract_tar_gz(data_02_path, 'data/raw')\n",
    "extract_tar_gz(data_03_path, 'data/raw')\n",
    "extract_tar_gz(data_04_path, 'data/raw')"
   ]
  }
 ],
 "metadata": {
  "kernelspec": {
   "display_name": ".venv",
   "language": "python",
   "name": "python3"
  },
  "language_info": {
   "codemirror_mode": {
    "name": "ipython",
    "version": 3
   },
   "file_extension": ".py",
   "mimetype": "text/x-python",
   "name": "python",
   "nbconvert_exporter": "python",
   "pygments_lexer": "ipython3",
   "version": "3.10.12"
  }
 },
 "nbformat": 4,
 "nbformat_minor": 2
}
