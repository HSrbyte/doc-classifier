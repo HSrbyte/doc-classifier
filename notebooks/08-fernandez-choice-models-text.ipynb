{
 "cells": [
  {
   "cell_type": "markdown",
   "metadata": {},
   "source": [
    "# 08 - Choix du modèle de classification textuel\n"
   ]
  },
  {
   "cell_type": "code",
   "execution_count": 1,
   "metadata": {},
   "outputs": [
    {
     "name": "stdout",
     "output_type": "stream",
     "text": [
      "c:\\Users\\Bryan Fernandez\\Desktop\\DataScientest\\doc-classifier\n"
     ]
    }
   ],
   "source": [
    "import os\n",
    "current_dir = %pwd\n",
    "project_dir = os.path.dirname(current_dir)\n",
    "%cd $project_dir"
   ]
  },
  {
   "cell_type": "code",
   "execution_count": 2,
   "metadata": {},
   "outputs": [],
   "source": [
    "import pandas as pd\n",
    "import numpy as np\n",
    "from sklearn.feature_extraction.text import TfidfVectorizer\n",
    "from sklearn.preprocessing import StandardScaler, LabelEncoder\n",
    "from sklearn.model_selection import train_test_split\n",
    "from lazypredict.Supervised import LazyClassifier\n",
    "from joblib import dump, load"
   ]
  },
  {
   "cell_type": "code",
   "execution_count": 3,
   "metadata": {},
   "outputs": [],
   "source": [
    "df = pd.read_csv('data\\processed\\words_structure.csv')"
   ]
  },
  {
   "cell_type": "code",
   "execution_count": 4,
   "metadata": {},
   "outputs": [],
   "source": [
    "df['words'] = df['words'].fillna('')\n",
    "\n",
    "target = df['category']\n",
    "features = df.drop('category', axis=1)\n",
    "\n",
    "X_train, X_test, y_train, y_test = train_test_split(\n",
    "    features, target, test_size=0.2)"
   ]
  },
  {
   "cell_type": "markdown",
   "metadata": {},
   "source": [
    "# 1. Modèle sur les données words\n"
   ]
  },
  {
   "cell_type": "code",
   "execution_count": 5,
   "metadata": {},
   "outputs": [],
   "source": [
    "le = LabelEncoder()\n",
    "y_train_encoded = le.fit_transform(y_train)\n",
    "y_test_encoded = le.transform(y_test)\n",
    "\n",
    "# Building the corpus for the train and test data for the TF-IDF Vectorizer\n",
    "X_train_corpus = X_train['words'].tolist()\n",
    "X_test_corpus = X_test['words'].tolist()\n",
    "\n",
    "# Learns the vocabulary and the IDF on training data only\n",
    "tfidf_vectorizer = TfidfVectorizer()\n",
    "X_train_tfidf = tfidf_vectorizer.fit_transform(X_train_corpus)\n",
    "\n",
    "# We save the TF-IDF of the train data\n",
    "dump(X_train_tfidf, 'models\\\\train_tfidf.joblib')\n",
    "\n",
    "# Convert the training data to array because the model doesn't take csr_matrix\n",
    "X_train_tfidf = X_train_tfidf.toarray()\n",
    "\n",
    "# Transform and convert the test data\n",
    "X_test_tfidf = tfidf_vectorizer.transform(X_test_corpus)\n",
    "X_test_tfidf = X_test_tfidf.toarray()"
   ]
  },
  {
   "cell_type": "code",
   "execution_count": null,
   "metadata": {},
   "outputs": [],
   "source": [
    "# Approximatly 6h40\n",
    "clf_tfidf = LazyClassifier(verbose=0, ignore_warnings=True, custom_metric=None)\n",
    "models, predictions = clf_tfidf.fit(\n",
    "    X_train_tfidf, X_test_tfidf, y_train_encoded, y_test_encoded)\n",
    "display(models)"
   ]
  },
  {
   "cell_type": "code",
   "execution_count": null,
   "metadata": {},
   "outputs": [],
   "source": [
    "dump(clf_tfidf, 'models\\lazypredict_tfidf.joblib', compress=5)"
   ]
  },
  {
   "cell_type": "markdown",
   "metadata": {},
   "source": [
    "# 2. Modèle sur les données de structure\n"
   ]
  },
  {
   "cell_type": "code",
   "execution_count": 6,
   "metadata": {},
   "outputs": [
    {
     "data": {
      "text/plain": [
       "['models\\\\train_standardscaled_words_structure.joblib']"
      ]
     },
     "execution_count": 6,
     "metadata": {},
     "output_type": "execute_result"
    }
   ],
   "source": [
    "X_train_structure = X_train.drop('words', axis=1)\n",
    "X_test_structure = X_test.drop('words', axis=1)\n",
    "\n",
    "# Scaling the features on training data\n",
    "scaler = StandardScaler()\n",
    "X_train_scaled = scaler.fit_transform(X_train_structure)\n",
    "X_test_scaled = scaler.transform(X_test_structure)\n",
    "\n",
    "dump(X_train_scaled, 'models\\\\train_standardscaled_words_structure.joblib')"
   ]
  },
  {
   "cell_type": "code",
   "execution_count": null,
   "metadata": {},
   "outputs": [],
   "source": [
    "clf_strucure = LazyClassifier(\n",
    "    verbose=0, ignore_warnings=True, custom_metric=None)\n",
    "\n",
    "models, predictions = clf_strucure.fit(\n",
    "    X_train_scaled, X_test_scaled, y_train_encoded, y_test_encoded)\n",
    "display(models)"
   ]
  },
  {
   "cell_type": "code",
   "execution_count": null,
   "metadata": {},
   "outputs": [],
   "source": [
    "dump(clf_strucure, 'models\\lazypredict_structure.joblib')"
   ]
  },
  {
   "cell_type": "markdown",
   "metadata": {},
   "source": [
    "# 3. Modèle sur l'ensemble\n"
   ]
  },
  {
   "cell_type": "code",
   "execution_count": 62,
   "metadata": {},
   "outputs": [],
   "source": [
    "# Rebuilding the dataframe while keeping the transformations\n",
    "\n",
    "X_train_scaled = pd.DataFrame(X_train_scaled)\n",
    "X_train_scaled.columns = X_train_structure.columns\n",
    "X_test_scaled = pd.DataFrame(X_test_scaled)\n",
    "X_test_scaled.columns = X_test_structure.columns\n",
    "\n",
    "# Converting to np.array to optimize the performances of the model\n",
    "X_train_word_structure = pd.concat(\n",
    "    (pd.DataFrame(X_train_tfidf), X_train_scaled), axis=1).to_numpy()\n",
    "X_test_word_structure = pd.concat(\n",
    "    (pd.DataFrame(X_test_tfidf), X_test_scaled), axis=1).to_numpy()\n"
   ]
  },
  {
   "cell_type": "code",
   "execution_count": null,
   "metadata": {},
   "outputs": [],
   "source": [
    "clf_word_structure = LazyClassifier(\n",
    "    verbose=0, ignore_warnings=True, custom_metric=None)\n",
    "models, predictions = clf_word_structure.fit(\n",
    "    X_train_word_structure, X_test_word_structure, y_train_encoded, y_test_encoded)\n",
    "display(models)"
   ]
  },
  {
   "cell_type": "code",
   "execution_count": null,
   "metadata": {},
   "outputs": [],
   "source": [
    "dump(clf_word_structure, 'models\\lazypredict_words_structure.joblib')"
   ]
  }
 ],
 "metadata": {
  "kernelspec": {
   "display_name": ".venv",
   "language": "python",
   "name": "python3"
  },
  "language_info": {
   "codemirror_mode": {
    "name": "ipython",
    "version": 3
   },
   "file_extension": ".py",
   "mimetype": "text/x-python",
   "name": "python",
   "nbconvert_exporter": "python",
   "pygments_lexer": "ipython3",
   "version": "3.10.11"
  }
 },
 "nbformat": 4,
 "nbformat_minor": 2
}
