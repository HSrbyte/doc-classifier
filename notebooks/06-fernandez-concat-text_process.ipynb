{
 "cells": [
  {
   "cell_type": "markdown",
   "metadata": {},
   "source": [
    "# Construction des fichiers pour la définition du pipeline de processing textuel\n",
    "\n",
    "Ce notebook permet d'assembler les fichiers text_process.csv des datasets 1, 3 et 4 en un fichier qui nous servira pour la définition du pipeline de processing textuel\n"
   ]
  },
  {
   "cell_type": "code",
   "execution_count": 1,
   "metadata": {},
   "outputs": [
    {
     "name": "stdout",
     "output_type": "stream",
     "text": [
      "c:\\Users\\Bryan Fernandez\\Desktop\\DataScientest\\doc-classifier\n"
     ]
    }
   ],
   "source": [
    "import os\n",
    "current_dir = %pwd\n",
    "project_dir = os.path.dirname(current_dir)\n",
    "%cd $project_dir"
   ]
  },
  {
   "cell_type": "markdown",
   "metadata": {},
   "source": [
    "Dans le dossier \"data\", nous allons créer un dossier \"processed\" dans lequel nous stockerons les fichiers."
   ]
  },
  {
   "cell_type": "code",
   "execution_count": 2,
   "metadata": {},
   "outputs": [
    {
     "name": "stdout",
     "output_type": "stream",
     "text": [
      "Folder already exists: 'data/processed'\n"
     ]
    },
    {
     "name": "stderr",
     "output_type": "stream",
     "text": [
      "C:\\Users\\Bryan Fernandez\\AppData\\Local\\Temp\\ipykernel_64076\\3233540087.py:2: DeprecationWarning: \n",
      "Pyarrow will become a required dependency of pandas in the next major release of pandas (pandas 3.0),\n",
      "(to allow more performant data types, such as the Arrow string type, and better interoperability with other libraries)\n",
      "but was not found to be installed on your system.\n",
      "If this would cause problems for you,\n",
      "please provide us feedback at https://github.com/pandas-dev/pandas/issues/54466\n",
      "        \n",
      "  import pandas as pd\n"
     ]
    }
   ],
   "source": [
    "import os\n",
    "import pandas as pd\n",
    "\n",
    "if not os.path.exists(\"data/processed\"):\n",
    "    os.makedirs(\"data/processed\")\n",
    "    print(f\"Folder created: 'data/processed'\")\n",
    "else:\n",
    "    print(f\"Folder already exists: 'data/processed'\")"
   ]
  },
  {
   "cell_type": "markdown",
   "metadata": {},
   "source": [
    "Ce code permet de concaténer les 3 fichiers text_process.csv en ajoutant la colonne 'data' pour avoir le jeu de données d'origine des images.\n"
   ]
  },
  {
   "cell_type": "code",
   "execution_count": 3,
   "metadata": {},
   "outputs": [
    {
     "data": {
      "text/html": [
       "<div>\n",
       "<style scoped>\n",
       "    .dataframe tbody tr th:only-of-type {\n",
       "        vertical-align: middle;\n",
       "    }\n",
       "\n",
       "    .dataframe tbody tr th {\n",
       "        vertical-align: top;\n",
       "    }\n",
       "\n",
       "    .dataframe thead th {\n",
       "        text-align: right;\n",
       "    }\n",
       "</style>\n",
       "<table border=\"1\" class=\"dataframe\">\n",
       "  <thead>\n",
       "    <tr style=\"text-align: right;\">\n",
       "      <th></th>\n",
       "      <th>words</th>\n",
       "      <th>lang</th>\n",
       "      <th>lang_score</th>\n",
       "      <th>file_name</th>\n",
       "      <th>category</th>\n",
       "      <th>data</th>\n",
       "    </tr>\n",
       "  </thead>\n",
       "  <tbody>\n",
       "    <tr>\n",
       "      <th>0</th>\n",
       "      <td>center indoor air research winteraon road suit...</td>\n",
       "      <td>en</td>\n",
       "      <td>0.999996</td>\n",
       "      <td>image_0000000</td>\n",
       "      <td>invoice</td>\n",
       "      <td>data_01</td>\n",
       "    </tr>\n",
       "    <tr>\n",
       "      <th>1</th>\n",
       "      <td>box kansas city missouri coo claire carcich ph...</td>\n",
       "      <td>en</td>\n",
       "      <td>0.999997</td>\n",
       "      <td>image_0000001</td>\n",
       "      <td>invoice</td>\n",
       "      <td>data_01</td>\n",
       "    </tr>\n",
       "    <tr>\n",
       "      <th>2</th>\n",
       "      <td>march attention statement chargo professor ste...</td>\n",
       "      <td>en</td>\n",
       "      <td>0.999996</td>\n",
       "      <td>image_0000002</td>\n",
       "      <td>invoice</td>\n",
       "      <td>data_01</td>\n",
       "    </tr>\n",
       "    <tr>\n",
       "      <th>3</th>\n",
       "      <td>ge von ahlendorf iiarat peter ahlendorf gmbh s...</td>\n",
       "      <td>de</td>\n",
       "      <td>0.999996</td>\n",
       "      <td>image_0000003</td>\n",
       "      <td>invoice</td>\n",
       "      <td>data_01</td>\n",
       "    </tr>\n",
       "    <tr>\n",
       "      <th>4</th>\n",
       "      <td>send rjr orsyth orsytli tcbaccc gwen scott com...</td>\n",
       "      <td>en</td>\n",
       "      <td>0.999996</td>\n",
       "      <td>image_0000004</td>\n",
       "      <td>invoice</td>\n",
       "      <td>data_01</td>\n",
       "    </tr>\n",
       "  </tbody>\n",
       "</table>\n",
       "</div>"
      ],
      "text/plain": [
       "                                               words lang  lang_score  \\\n",
       "0  center indoor air research winteraon road suit...   en    0.999996   \n",
       "1  box kansas city missouri coo claire carcich ph...   en    0.999997   \n",
       "2  march attention statement chargo professor ste...   en    0.999996   \n",
       "3  ge von ahlendorf iiarat peter ahlendorf gmbh s...   de    0.999996   \n",
       "4  send rjr orsyth orsytli tcbaccc gwen scott com...   en    0.999996   \n",
       "\n",
       "       file_name category     data  \n",
       "0  image_0000000  invoice  data_01  \n",
       "1  image_0000001  invoice  data_01  \n",
       "2  image_0000002  invoice  data_01  \n",
       "3  image_0000003  invoice  data_01  \n",
       "4  image_0000004  invoice  data_01  "
      ]
     },
     "execution_count": 3,
     "metadata": {},
     "output_type": "execute_result"
    }
   ],
   "source": [
    "li = []\n",
    "\n",
    "for i in [\"data_01\", \"data_03\", \"data_04\"]:\n",
    "    df = pd.read_csv(f\"data/raw/{i}/text_process.csv\")\n",
    "    df['data'] = i\n",
    "    li.append(df)\n",
    "\n",
    "frame_words = pd.concat(li, axis=0, ignore_index=True)\n",
    "frame_words.to_csv(\"data/processed/words.csv\", index=False)\n",
    "\n",
    "frame_words.head()"
   ]
  },
  {
   "cell_type": "markdown",
   "metadata": {},
   "source": [
    "Ce code permet de concaténer les 3 fichiers text_process.csv ne gardant que les colonnes 'words' et 'category' et en ajoutant la colonne 'count' qui correspond au nombre de mots dans le text.\n"
   ]
  },
  {
   "cell_type": "code",
   "execution_count": 4,
   "metadata": {},
   "outputs": [
    {
     "data": {
      "text/html": [
       "<div>\n",
       "<style scoped>\n",
       "    .dataframe tbody tr th:only-of-type {\n",
       "        vertical-align: middle;\n",
       "    }\n",
       "\n",
       "    .dataframe tbody tr th {\n",
       "        vertical-align: top;\n",
       "    }\n",
       "\n",
       "    .dataframe thead th {\n",
       "        text-align: right;\n",
       "    }\n",
       "</style>\n",
       "<table border=\"1\" class=\"dataframe\">\n",
       "  <thead>\n",
       "    <tr style=\"text-align: right;\">\n",
       "      <th></th>\n",
       "      <th>words</th>\n",
       "      <th>count</th>\n",
       "      <th>category</th>\n",
       "    </tr>\n",
       "  </thead>\n",
       "  <tbody>\n",
       "    <tr>\n",
       "      <th>0</th>\n",
       "      <td>center indoor air research winteraon road suit...</td>\n",
       "      <td>27</td>\n",
       "      <td>invoice</td>\n",
       "    </tr>\n",
       "    <tr>\n",
       "      <th>1</th>\n",
       "      <td>box kansas city missouri coo claire carcich ph...</td>\n",
       "      <td>43</td>\n",
       "      <td>invoice</td>\n",
       "    </tr>\n",
       "    <tr>\n",
       "      <th>2</th>\n",
       "      <td>march attention statement chargo professor ste...</td>\n",
       "      <td>44</td>\n",
       "      <td>invoice</td>\n",
       "    </tr>\n",
       "    <tr>\n",
       "      <th>3</th>\n",
       "      <td>ge von ahlendorf iiarat peter ahlendorf gmbh s...</td>\n",
       "      <td>62</td>\n",
       "      <td>invoice</td>\n",
       "    </tr>\n",
       "    <tr>\n",
       "      <th>4</th>\n",
       "      <td>send rjr orsyth orsytli tcbaccc gwen scott com...</td>\n",
       "      <td>50</td>\n",
       "      <td>invoice</td>\n",
       "    </tr>\n",
       "  </tbody>\n",
       "</table>\n",
       "</div>"
      ],
      "text/plain": [
       "                                               words  count category\n",
       "0  center indoor air research winteraon road suit...     27  invoice\n",
       "1  box kansas city missouri coo claire carcich ph...     43  invoice\n",
       "2  march attention statement chargo professor ste...     44  invoice\n",
       "3  ge von ahlendorf iiarat peter ahlendorf gmbh s...     62  invoice\n",
       "4  send rjr orsyth orsytli tcbaccc gwen scott com...     50  invoice"
      ]
     },
     "execution_count": 4,
     "metadata": {},
     "output_type": "execute_result"
    }
   ],
   "source": [
    "li = []\n",
    "\n",
    "for i in [\"data_01\", \"data_03\", \"data_04\"]:\n",
    "    df = pd.read_csv(f\"data/raw/{i}/text_process.csv\",\n",
    "                     usecols=['words', 'category'])\n",
    "    df['words'] = df['words'].fillna('')\n",
    "    df.insert(loc=1, column='count', value=df['words'].apply(\n",
    "        lambda x: len(x.split())))\n",
    "    li.append(df)\n",
    "\n",
    "frame_count = pd.concat(li, axis=0, ignore_index=True)\n",
    "frame_count.to_csv(\"data/processed/count_words.csv\", index=False)\n",
    "\n",
    "frame_count.head()"
   ]
  }
 ],
 "metadata": {
  "kernelspec": {
   "display_name": ".venv",
   "language": "python",
   "name": "python3"
  },
  "language_info": {
   "codemirror_mode": {
    "name": "ipython",
    "version": 3
   },
   "file_extension": ".py",
   "mimetype": "text/x-python",
   "name": "python",
   "nbconvert_exporter": "python",
   "pygments_lexer": "ipython3",
   "version": "3.10.11"
  }
 },
 "nbformat": 4,
 "nbformat_minor": 2
}
